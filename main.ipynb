{
 "cells": [
  {
   "cell_type": "code",
   "execution_count": 43,
   "metadata": {},
   "outputs": [],
   "source": [
    "import tkinter as tk\n",
    "from tkinter import messagebox\n",
    "import pandas as pd\n"
   ]
  },
  {
   "cell_type": "code",
   "execution_count": 44,
   "metadata": {},
   "outputs": [],
   "source": [
    "try:\n",
    "    df = pd.read_csv(\"record.csv\")\n",
    "except Exception as e:\n",
    "    data = {\n",
    "        \"Date\": [],\n",
    "        \"Description\": [],\n",
    "        'Amount': [],\n",
    "        \"Type\":[]\n",
    "    }\n",
    "        \n",
    "    df = pd.DataFrame(data)\n"
   ]
  },
  {
   "cell_type": "code",
   "execution_count": 49,
   "metadata": {},
   "outputs": [],
   "source": [
    "class BudgetTrackerApp:\n",
    "    def __init__(self,root):\n",
    "        self.root = root\n",
    "        self.root.title(\"Budget Tracker\")\n",
    "\n",
    "        #Labels and entries for input\n",
    "\n",
    "        #Date input\n",
    "        self.label_date = tk.Label(root,text=\"Date (YY-MM-DD):\")\n",
    "        self.label_date.grid(row=0,column=0)\n",
    "        self.entry_date = tk.Entry(root)\n",
    "        self.entry_date.grid(row=0,column=1)\n",
    "\n",
    "        #Description input\n",
    "        self.label_description = tk.Label(root,text=\"Description:\")\n",
    "        self.label_description.grid(row=1,column=0)\n",
    "        self.entry_description = tk.Entry(root)\n",
    "        self.entry_description.grid(row=1,column=1)\n",
    "\n",
    "        #amount input\n",
    "        self.label_amount = tk.Label(root,text=\"Amount:\")\n",
    "        self.label_amount.grid(row=2,column=0)\n",
    "        self.entry_amount = tk.Entry(root)\n",
    "        self.entry_amount.grid(row=2,column=1)\n",
    "\n",
    "\n",
    "        self.label_type = tk.Label(root,text=\"Type (Income/expense):\")\n",
    "        self.label_type.grid(row=3,column=0)\n",
    "        self.entry_type = tk.Entry(root)\n",
    "        self.entry_type.grid(row=3,column=1)\n",
    "\n",
    "        #create buttons\n",
    "        self.button_add = tk.Button(root,text=\"Add entry\",command=self.add_entry)\n",
    "        self.button_add.grid(row=4,column=0,columnspan=2)\n",
    "\n",
    "        self.button_view = tk.Button(root,text=\"View Entries\",command=self.view_entries)\n",
    "        self.button_view.grid(row=5,column=0,columnspan=2)\n",
    "\n",
    "\n",
    "    def add_entry(self):\n",
    "        date = self.entry_date.get() \n",
    "        description = self.entry_description.get()\n",
    "        amount = self.entry_amount.get() \n",
    "        entry_type = self.entry_type.get()\n",
    "\n",
    "        if date and description and amount and entry_type:\n",
    "            new_entry = pd.DataFrame( data = {\n",
    "            \"Date\": [date],\n",
    "            \"Description\": [description],\n",
    "            'Amount': [amount],\n",
    "            \"Type\":[entry_type]\n",
    "            })\n",
    "            global df\n",
    "            df = pd.concat([df,new_entry],ignore_index=True)\n",
    "            df.to_csv(\"record.csv\",index=False)\n",
    "            messagebox.showinfo(\"Success\",\"Entry saved successfully\")\n",
    "        else:\n",
    "            messagebox.showerror(\"Error\",\"All fields are required!\")    \n",
    "\n",
    "\n",
    "\n",
    "\n",
    "    def view_entries(self):\n",
    "        global df\n",
    "        top = tk.Toplevel(self.root)\n",
    "        top.title(\"View entries\")\n",
    "        text = tk.Text(top)\n",
    "        text.pack()\n",
    "\n",
    "        for index,row in df.iterrows():\n",
    "            text.insert(tk.END,\"Date:\"+ row['Date'] + \"| Description:\" + row[\"Description\"] + \"|  Amount:\" + str(row[\"Amount\"]) + \"|  Type:\" + row[\"Type\"] + \"\\n\")\n"
   ]
  },
  {
   "cell_type": "code",
   "execution_count": null,
   "metadata": {},
   "outputs": [],
   "source": []
  },
  {
   "cell_type": "code",
   "execution_count": 50,
   "metadata": {},
   "outputs": [],
   "source": [
    "root = tk.Tk()\n",
    "app = BudgetTrackerApp(root)\n",
    "root.mainloop()"
   ]
  },
  {
   "cell_type": "code",
   "execution_count": null,
   "metadata": {},
   "outputs": [],
   "source": [
    "import math"
   ]
  },
  {
   "cell_type": "code",
   "execution_count": null,
   "metadata": {},
   "outputs": [],
   "source": []
  }
 ],
 "metadata": {
  "kernelspec": {
   "display_name": "budgettrack",
   "language": "python",
   "name": "python3"
  },
  "language_info": {
   "codemirror_mode": {
    "name": "ipython",
    "version": 3
   },
   "file_extension": ".py",
   "mimetype": "text/x-python",
   "name": "python",
   "nbconvert_exporter": "python",
   "pygments_lexer": "ipython3",
   "version": "3.12.5"
  }
 },
 "nbformat": 4,
 "nbformat_minor": 2
}
